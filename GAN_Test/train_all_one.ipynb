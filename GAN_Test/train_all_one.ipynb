{
 "cells": [
  {
   "cell_type": "code",
   "execution_count": 5,
   "metadata": {},
   "outputs": [],
   "source": [
    "import os\n",
    "import argparse\n",
    "\n",
    "import time\n",
    "import datetime\n",
    "\n",
    "import torch\n",
    "import torch.nn as nn\n",
    "from torch.autograd import Variable\n",
    "import torch.autograd as autograd\n",
    "from torch.utils.data import DataLoader\n",
    "import torch.backends.cudnn as cudnn\n",
    "from pytorch_msssim import ssim, ms_ssim, SSIM, MS_SSIM\n",
    "#import encoding\n",
    "from torchvision import transforms\n",
    "\n",
    "import pytorch_ssim\n",
    "import dataset\n",
    "import utils\n"
   ]
  },
  {
   "cell_type": "markdown",
   "metadata": {},
   "source": [
    "Trainer"
   ]
  },
  {
   "cell_type": "code",
   "execution_count": 13,
   "metadata": {},
   "outputs": [
    {
     "name": "stdout",
     "output_type": "stream",
     "text": [
      "Namespace(angle_aug=False, b1=0.5, b2=0.999, baseroot='./rainy_image_dataset/training', blind_est=True, burst_length=1, channel_att=False, color=True, core_bias=False, crop_size=256, cudnn_benchmark=True, epochs=100, geometry_aug=False, gpu_ids='0, 1, 2, 3', init_gain=0.02, init_type='xavier', kernel_size=[3], load_name='', lr_decrease_epoch=20, lr_g=0.0002, mu=0, multi_gpu=False, no_gpu=False, num_workers=8, rainaug=False, sample_path='./samples', save_by_epoch=10, save_by_iter=100000, save_mode='epoch', save_path='./models_k9_loss14_ft', scale_max=1, scale_min=1, sep_conv=False, sigma=30, spatial_att=False, train_batch_size=16, upMode='bilinear', weight_decay=0)\n"
     ]
    }
   ],
   "source": [
    "def str2bool(v):\n",
    "    #print(v)\n",
    "    if v.lower() in ('yes', 'true', 't', 'y', '1'):\n",
    "        return True\n",
    "    elif v.lower() in ('no', 'false', 'f', 'n', '0'):\n",
    "        return False\n",
    "    else:\n",
    "        raise argparse.ArgumentTypeError('Unsupported value encountered.')\n",
    "\n",
    "#opt: arguments\n",
    "# ----------------------------------------\n",
    "#        Initialize the parameters\n",
    "# ----------------------------------------\n",
    "parser = argparse.ArgumentParser()\n",
    "# Pre-train, saving, and loading parameters\n",
    "parser.add_argument('--save_path', type = str, default = './models/models_k3_d4_ssimloss_SavePredictedKernel', help = 'saving path that is a folder')  #often changed\n",
    "parser.add_argument('--sample_path', type = str, default = './samples', help = 'training samples path that is a folder')  #often changed\n",
    "parser.add_argument('--save_mode', type = str, default = 'epoch', help = 'saving mode, and by_epoch saving is recommended')\n",
    "parser.add_argument('--save_by_epoch', type = int, default = 10, help = 'interval between model checkpoints (by epochs)')\n",
    "parser.add_argument('--save_by_iter', type = int, default = 100000, help = 'interval between model checkpoints (by iterations)')\n",
    "parser.add_argument('--load_name', type = str, default = '', help = 'load the pre-trained model with certain epoch')\n",
    "# GPU parameters\n",
    "parser.add_argument('--no_gpu', type = str2bool, default = False, help = 'True for CPU')\n",
    "parser.add_argument('--multi_gpu', type = str2bool, default = False, help = 'True for more than 1 GPU')\n",
    "#parser.add_argument('--multi_gpu', type = bool, default = False, help = 'True for more than 1 GPU')\n",
    "parser.add_argument('--gpu_ids', type = str, default = '0, 1, 2, 3', help = 'gpu_ids: e.g. 0  0,1  0,1,2  use -1 for CPU')\n",
    "parser.add_argument('--cudnn_benchmark', type = str2bool, default = True, help = 'True for unchanged input data type')\n",
    "# Training parameters\n",
    "parser.add_argument('--epochs', type = int, default = 1, help = 'number of epochs of training')  #often changed\n",
    "parser.add_argument('--train_batch_size', type = int, default = 16, help = 'size of the batches')\n",
    "parser.add_argument('--lr_g', type = float, default = 0.0002, help = 'Adam: learning rate for G / D')\n",
    "parser.add_argument('--b1', type = float, default = 0.5, help = 'Adam: decay of first order momentum of gradient')\n",
    "parser.add_argument('--b2', type = float, default = 0.999, help = 'Adam: decay of second order momentum of gradient')\n",
    "parser.add_argument('--weight_decay', type = float, default = 0, help = 'weight decay for optimizer')\n",
    "parser.add_argument('--lr_decrease_epoch', type = int, default = 50, help = 'lr decrease at certain epoch and its multiple')\n",
    "parser.add_argument('--num_workers', type = int, default = 1, help = 'number of cpu threads to use during batch generation')\n",
    "# Initialization parameters\n",
    "parser.add_argument('--color', type = str2bool, default = True, help = 'input type')\n",
    "parser.add_argument('--burst_length', type = int, default = 1, help = 'number of photos used in burst setting')\n",
    "parser.add_argument('--blind_est', type = str2bool, default = True, help = 'variance map')\n",
    "parser.add_argument('--kernel_size', type = str2bool, default = [3], help = 'kernel size')\n",
    "parser.add_argument('--sep_conv', type = str2bool, default = False, help = 'simple output type')\n",
    "parser.add_argument('--channel_att', type = str2bool, default = False, help = 'channel wise attention')\n",
    "parser.add_argument('--spatial_att', type = str2bool, default = False, help = 'spatial wise attention')\n",
    "parser.add_argument('--upMode', type = str, default = 'bilinear', help = 'upMode')\n",
    "parser.add_argument('--core_bias', type = str2bool, default = False, help = 'core_bias')\n",
    "parser.add_argument('--init_type', type = str, default = 'xavier', help = 'initialization type of generator')\n",
    "parser.add_argument('--init_gain', type = float, default = 0.02, help = 'initialization gain of generator')\n",
    "# Dataset parameters\n",
    "parser.add_argument('--baseroot', type = str, default = './rainy_image_dataset/rain100H/train/', help = 'images baseroot')\n",
    "parser.add_argument('--rainaug', type = str2bool, default = False, help = 'true for using rainaug')\n",
    "parser.add_argument('--crop_size', type = int, default = 256, help = 'single patch size')\n",
    "parser.add_argument('--geometry_aug', type = str2bool, default = False, help = 'geometry augmentation (scaling)')\n",
    "parser.add_argument('--angle_aug', type = str2bool, default = False, help = 'geometry augmentation (rotation, flipping)')\n",
    "parser.add_argument('--scale_min', type = float, default = 1, help = 'min scaling factor')\n",
    "parser.add_argument('--scale_max', type = float, default = 1, help = 'max scaling factor')\n",
    "parser.add_argument('--mu', type = int, default = 0, help = 'Gaussian noise mean')\n",
    "parser.add_argument('--sigma', type = int, default = 30, help = 'Gaussian noise variance: 30 | 50 | 70')\n",
    "\n",
    "opt = parser.parse_args(args=[])\n",
    "print(opt)"
   ]
  },
  {
   "cell_type": "code",
   "execution_count": null,
   "metadata": {},
   "outputs": [],
   "source": [
    "\n",
    "\n",
    "# cudnn benchmark\n",
    "cudnn.benchmark = opt.cudnn_benchmark\n",
    "\n",
    "# configurations\n",
    "save_folder = opt.save_path\n",
    "sample_folder = opt.sample_path\n",
    "utils.check_path(save_folder)\n",
    "utils.check_path(sample_folder)"
   ]
  }
 ],
 "metadata": {
  "kernelspec": {
   "display_name": "Python 3",
   "language": "python",
   "name": "python3"
  },
  "language_info": {
   "codemirror_mode": {
    "name": "ipython",
    "version": 3
   },
   "file_extension": ".py",
   "mimetype": "text/x-python",
   "name": "python",
   "nbconvert_exporter": "python",
   "pygments_lexer": "ipython3",
   "version": "3.5.2"
  }
 },
 "nbformat": 4,
 "nbformat_minor": 2
}
